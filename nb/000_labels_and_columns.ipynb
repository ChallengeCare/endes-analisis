{
 "cells": [
  {
   "cell_type": "code",
   "execution_count": 7,
   "metadata": {},
   "outputs": [],
   "source": [
    "import numpy as np\n",
    "import pandas as pd\n",
    "import re\n",
    "from unicodedata import normalize\n",
    "import copy\n",
    "import json\n",
    "import os"
   ]
  },
  {
   "cell_type": "code",
   "execution_count": 2,
   "metadata": {},
   "outputs": [],
   "source": [
    "csv_path = '../files/02_dictionaries/01_csv_load'\n",
    "json_path = '../files/02_dictionaries/02_json_mapping'"
   ]
  },
  {
   "cell_type": "code",
   "execution_count": 3,
   "metadata": {},
   "outputs": [],
   "source": [
    "def transform_spanish(s):\n",
    "    s = re.sub(\n",
    "        r\"([^n\\u0300-\\u036f]|n(?!\\u0303(?![\\u0300-\\u036f])))[\\u0300-\\u036f]+\", r\"\\1\", \n",
    "        normalize( \"NFD\", s), 0, re.I\n",
    "    )\n",
    "\n",
    "    # -> NFC\n",
    "    s = normalize( 'NFC', s)\n",
    "    s = s.replace(u\"ñ\",\"nh\")\n",
    "    s = s.lower()\n",
    "    s = s.replace(\" \",\"_\")\n",
    "    s = s.replace(\"¿\",\"\")\n",
    "    return s"
   ]
  },
  {
   "cell_type": "code",
   "execution_count": 26,
   "metadata": {},
   "outputs": [],
   "source": [
    "def get_labels(info_df, basename_f):\n",
    "    info_df[\"DESC_CLEAN\"] = info_df[\"DESCRIPCIÓN DE LAS VARIABLES\"].apply(lambda x: transform_spanish(x))\n",
    "    # Group mappings\n",
    "    group_info_df = info_df.groupby(by=[\"VARIABLE\"])\n",
    "\n",
    "    # Create dict of mappings\n",
    "    dict_mapping = {}\n",
    "    for index, df in group_info_df:\n",
    "        if df['VALORES'].isnull().all() == False:\n",
    "            #print(index)\n",
    "            #print(df['DESC_CLEAN'])\n",
    "            new_key = df['DESC_CLEAN'].values[0]\n",
    "            #print(new_key)\n",
    "            dict_valor = {}\n",
    "            for sub_index, valor, desc in df[['VALORES','DESCRIPCIÓN DE LAS ALTERNATIVAS']].itertuples():\n",
    "                try:\n",
    "                    valor = str(int(valor))\n",
    "                except ValueError:\n",
    "                    pass\n",
    "                dict_valor[valor] = desc      \n",
    "            dict_mapping[f'{basename_f}-{index}-{new_key}'] = copy.deepcopy(dict_valor)\n",
    "            \n",
    "    return dict_mapping"
   ]
  },
  {
   "cell_type": "code",
   "execution_count": 27,
   "metadata": {},
   "outputs": [],
   "source": [
    "def get_desc_columns(info_df,basename_f):\n",
    "    # idcolumns and decs columns\n",
    "    columns_mapping_df = info_df[['VARIABLE','DESC_CLEAN']].drop_duplicates(keep = 'first')\n",
    "\n",
    "    # For the columns\n",
    "    dict_columnas = {}\n",
    "    for sub_index, valor, desc in columns_mapping_df.itertuples():\n",
    "        dict_columnas[valor] = f'{basename_f}-{valor}-{desc}'\n",
    "        \n",
    "    return dict_columnas"
   ]
  },
  {
   "cell_type": "code",
   "execution_count": 9,
   "metadata": {},
   "outputs": [
    {
     "data": {
      "text/plain": [
       "['CSALUD01',\n",
       " 'CSALUD08',\n",
       " 'Programas_Sociales_x_Hogar',\n",
       " 'PS_BECA_18',\n",
       " 'PS_COMEDOR',\n",
       " 'PS_PENSION65',\n",
       " 'PS_QALIWARMA',\n",
       " 'PS_TRABAJA',\n",
       " 'PS_VL',\n",
       " 'PS_WAWAWASI',\n",
       " 'RECH0',\n",
       " 'RECH23',\n",
       " 'RECH5',\n",
       " 'RECH6']"
      ]
     },
     "execution_count": 9,
     "metadata": {},
     "output_type": "execute_result"
    }
   ],
   "source": [
    "filenames = [os.path.splitext(f)[0] for f in  os.listdir(csv_path)]\n",
    "filenames"
   ]
  },
  {
   "cell_type": "code",
   "execution_count": 28,
   "metadata": {},
   "outputs": [
    {
     "name": "stdout",
     "output_type": "stream",
     "text": [
      "Processing CSALUD01\n",
      " -> Labels saved for CSALUD01\n",
      " -> Columns saved for CSALUD01\n",
      "Processing CSALUD08\n",
      " -> Labels saved for CSALUD08\n",
      " -> Columns saved for CSALUD08\n",
      "Processing Programas_Sociales_x_Hogar\n",
      " -> Labels saved for Programas_Sociales_x_Hogar\n",
      " -> Columns saved for Programas_Sociales_x_Hogar\n",
      "Processing PS_BECA_18\n",
      " -> Labels saved for PS_BECA_18\n",
      " -> Columns saved for PS_BECA_18\n",
      "Processing PS_COMEDOR\n",
      " -> Labels saved for PS_COMEDOR\n",
      " -> Columns saved for PS_COMEDOR\n",
      "Processing PS_PENSION65\n",
      " -> Labels saved for PS_PENSION65\n",
      " -> Columns saved for PS_PENSION65\n",
      "Processing PS_QALIWARMA\n",
      " -> Labels saved for PS_QALIWARMA\n",
      " -> Columns saved for PS_QALIWARMA\n",
      "Processing PS_TRABAJA\n",
      " -> Labels saved for PS_TRABAJA\n",
      " -> Columns saved for PS_TRABAJA\n",
      "Processing PS_VL\n",
      " -> Labels saved for PS_VL\n",
      " -> Columns saved for PS_VL\n",
      "Processing PS_WAWAWASI\n",
      " -> Labels saved for PS_WAWAWASI\n",
      " -> Columns saved for PS_WAWAWASI\n",
      "Processing RECH0\n",
      " -> Labels saved for RECH0\n",
      " -> Columns saved for RECH0\n",
      "Processing RECH23\n",
      " -> Labels saved for RECH23\n",
      " -> Columns saved for RECH23\n",
      "Processing RECH5\n",
      " -> Labels saved for RECH5\n",
      " -> Columns saved for RECH5\n",
      "Processing RECH6\n",
      " -> Labels saved for RECH6\n",
      " -> Columns saved for RECH6\n"
     ]
    }
   ],
   "source": [
    "for f in filenames:\n",
    "    print(f'Processing {f}')\n",
    "    info_df = pd.read_csv(f'{csv_path}/{f}.csv', encoding = \"ISO-8859-1\", engine='python')\n",
    "    dict_mapping = get_labels(info_df, f)\n",
    "    dict_columnas = get_desc_columns(info_df, f)\n",
    "    dump_path = f'{json_path}/{f}'\n",
    "    if not os.path.exists(dump_path): os.makedirs(dump_path)\n",
    "        \n",
    "    with open(f'{dump_path}/labels.json', 'w') as fp:\n",
    "        json.dump(dict_mapping, fp)\n",
    "    print(f\" -> Labels saved for {f}\")\n",
    "    \n",
    "    with open(f'{dump_path}/columns.json', 'w') as fp:\n",
    "        json.dump(dict_columnas, fp)\n",
    "    print(f\" -> Columns saved for {f}\")\n",
    "    "
   ]
  }
 ],
 "metadata": {
  "kernelspec": {
   "display_name": "Python 3",
   "language": "python",
   "name": "python3"
  },
  "language_info": {
   "codemirror_mode": {
    "name": "ipython",
    "version": 3
   },
   "file_extension": ".py",
   "mimetype": "text/x-python",
   "name": "python",
   "nbconvert_exporter": "python",
   "pygments_lexer": "ipython3",
   "version": "3.8.3"
  }
 },
 "nbformat": 4,
 "nbformat_minor": 4
}
