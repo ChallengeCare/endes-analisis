{
 "cells": [
  {
   "cell_type": "markdown",
   "metadata": {},
   "source": [
    "# Merge y análisis descriptivo de archivos \"Caracteristicas de la Vivienda\""
   ]
  },
  {
   "cell_type": "code",
   "execution_count": 1,
   "metadata": {},
   "outputs": [],
   "source": [
    "import numpy as np\n",
    "import pandas as pd"
   ]
  },
  {
   "cell_type": "markdown",
   "metadata": {},
   "source": [
    "# Load"
   ]
  },
  {
   "cell_type": "code",
   "execution_count": 2,
   "metadata": {},
   "outputs": [],
   "source": [
    "general_file_path = '../files/01_csv'\n",
    "csv_prefix = 'AnyConv.com__'"
   ]
  },
  {
   "cell_type": "code",
   "execution_count": 3,
   "metadata": {},
   "outputs": [],
   "source": [
    "rech23_df = pd.read_csv(f'{general_file_path}/{csv_prefix}RECH23.csv')"
   ]
  },
  {
   "cell_type": "code",
   "execution_count": 7,
   "metadata": {},
   "outputs": [],
   "source": [
    "rech23_df.columns = [column.split(',')[0] for column in rech23_df.columns]"
   ]
  },
  {
   "cell_type": "code",
   "execution_count": 9,
   "metadata": {},
   "outputs": [
    {
     "data": {
      "text/html": [
       "<div>\n",
       "<style scoped>\n",
       "    .dataframe tbody tr th:only-of-type {\n",
       "        vertical-align: middle;\n",
       "    }\n",
       "\n",
       "    .dataframe tbody tr th {\n",
       "        vertical-align: top;\n",
       "    }\n",
       "\n",
       "    .dataframe thead th {\n",
       "        text-align: right;\n",
       "    }\n",
       "</style>\n",
       "<table border=\"1\" class=\"dataframe\">\n",
       "  <thead>\n",
       "    <tr style=\"text-align: right;\">\n",
       "      <th></th>\n",
       "      <th>ID1</th>\n",
       "      <th>HHID</th>\n",
       "      <th>HV201</th>\n",
       "      <th>HV202</th>\n",
       "      <th>HV204</th>\n",
       "      <th>HV205</th>\n",
       "      <th>HV206</th>\n",
       "      <th>HV207</th>\n",
       "      <th>HV208</th>\n",
       "      <th>HV209</th>\n",
       "      <th>...</th>\n",
       "      <th>SH78</th>\n",
       "      <th>SH79</th>\n",
       "      <th>SH224</th>\n",
       "      <th>SH225U</th>\n",
       "      <th>SH225</th>\n",
       "      <th>SH227</th>\n",
       "      <th>QH227A</th>\n",
       "      <th>QH227B</th>\n",
       "      <th>HV270</th>\n",
       "      <th>HV271</th>\n",
       "    </tr>\n",
       "  </thead>\n",
       "  <tbody>\n",
       "    <tr>\n",
       "      <th>0</th>\n",
       "      <td>2019</td>\n",
       "      <td>100201</td>\n",
       "      <td>11</td>\n",
       "      <td>0</td>\n",
       "      <td>996</td>\n",
       "      <td>11</td>\n",
       "      <td>1</td>\n",
       "      <td>1</td>\n",
       "      <td>1</td>\n",
       "      <td>1</td>\n",
       "      <td>...</td>\n",
       "      <td>1</td>\n",
       "      <td>20</td>\n",
       "      <td>4</td>\n",
       "      <td>2</td>\n",
       "      <td>16</td>\n",
       "      <td>1</td>\n",
       "      <td>1</td>\n",
       "      <td>1</td>\n",
       "      <td>4</td>\n",
       "      <td>1</td>\n",
       "    </tr>\n",
       "    <tr>\n",
       "      <th>1</th>\n",
       "      <td>2019</td>\n",
       "      <td>102801</td>\n",
       "      <td>11</td>\n",
       "      <td>0</td>\n",
       "      <td>996</td>\n",
       "      <td>11</td>\n",
       "      <td>1</td>\n",
       "      <td>1</td>\n",
       "      <td>1</td>\n",
       "      <td>1</td>\n",
       "      <td>...</td>\n",
       "      <td>0</td>\n",
       "      <td>0</td>\n",
       "      <td>4</td>\n",
       "      <td>1</td>\n",
       "      <td>37</td>\n",
       "      <td>1</td>\n",
       "      <td>2</td>\n",
       "      <td>1</td>\n",
       "      <td>4</td>\n",
       "      <td>1</td>\n",
       "    </tr>\n",
       "    <tr>\n",
       "      <th>2</th>\n",
       "      <td>2019</td>\n",
       "      <td>104801</td>\n",
       "      <td>11</td>\n",
       "      <td>0</td>\n",
       "      <td>996</td>\n",
       "      <td>11</td>\n",
       "      <td>1</td>\n",
       "      <td>0</td>\n",
       "      <td>0</td>\n",
       "      <td>0</td>\n",
       "      <td>...</td>\n",
       "      <td>0</td>\n",
       "      <td>0</td>\n",
       "      <td>3</td>\n",
       "      <td>2</td>\n",
       "      <td>16</td>\n",
       "      <td>2</td>\n",
       "      <td>1</td>\n",
       "      <td>1</td>\n",
       "      <td>2</td>\n",
       "      <td>0</td>\n",
       "    </tr>\n",
       "    <tr>\n",
       "      <th>3</th>\n",
       "      <td>2019</td>\n",
       "      <td>113601</td>\n",
       "      <td>11</td>\n",
       "      <td>0</td>\n",
       "      <td>996</td>\n",
       "      <td>11</td>\n",
       "      <td>1</td>\n",
       "      <td>1</td>\n",
       "      <td>1</td>\n",
       "      <td>1</td>\n",
       "      <td>...</td>\n",
       "      <td>1</td>\n",
       "      <td>50</td>\n",
       "      <td>4</td>\n",
       "      <td>2</td>\n",
       "      <td>16</td>\n",
       "      <td>1</td>\n",
       "      <td>1</td>\n",
       "      <td>1</td>\n",
       "      <td>5</td>\n",
       "      <td>1</td>\n",
       "    </tr>\n",
       "    <tr>\n",
       "      <th>4</th>\n",
       "      <td>2019</td>\n",
       "      <td>113701</td>\n",
       "      <td>11</td>\n",
       "      <td>0</td>\n",
       "      <td>996</td>\n",
       "      <td>11</td>\n",
       "      <td>1</td>\n",
       "      <td>1</td>\n",
       "      <td>1</td>\n",
       "      <td>0</td>\n",
       "      <td>...</td>\n",
       "      <td>0</td>\n",
       "      <td>0</td>\n",
       "      <td>9</td>\n",
       "      <td>0</td>\n",
       "      <td>0</td>\n",
       "      <td>9</td>\n",
       "      <td>0</td>\n",
       "      <td>0</td>\n",
       "      <td>2</td>\n",
       "      <td>0</td>\n",
       "    </tr>\n",
       "  </tbody>\n",
       "</table>\n",
       "<p>5 rows × 131 columns</p>\n",
       "</div>"
      ],
      "text/plain": [
       "    ID1    HHID  HV201  HV202  HV204  HV205  HV206  HV207  HV208  HV209  ...  \\\n",
       "0  2019  100201     11      0    996     11      1      1      1      1  ...   \n",
       "1  2019  102801     11      0    996     11      1      1      1      1  ...   \n",
       "2  2019  104801     11      0    996     11      1      0      0      0  ...   \n",
       "3  2019  113601     11      0    996     11      1      1      1      1  ...   \n",
       "4  2019  113701     11      0    996     11      1      1      1      0  ...   \n",
       "\n",
       "   SH78  SH79  SH224  SH225U  SH225  SH227  QH227A  QH227B  HV270  HV271  \n",
       "0     1    20      4       2     16      1       1       1      4      1  \n",
       "1     0     0      4       1     37      1       2       1      4      1  \n",
       "2     0     0      3       2     16      2       1       1      2      0  \n",
       "3     1    50      4       2     16      1       1       1      5      1  \n",
       "4     0     0      9       0      0      9       0       0      2      0  \n",
       "\n",
       "[5 rows x 131 columns]"
      ]
     },
     "execution_count": 9,
     "metadata": {},
     "output_type": "execute_result"
    }
   ],
   "source": [
    "rech23_df.head()"
   ]
  },
  {
   "cell_type": "code",
   "execution_count": 10,
   "metadata": {},
   "outputs": [
    {
     "name": "stdout",
     "output_type": "stream",
     "text": [
      "<class 'pandas.core.frame.DataFrame'>\n",
      "RangeIndex: 37474 entries, 0 to 37473\n",
      "Columns: 131 entries, ID1 to HV271\n",
      "dtypes: int64(131)\n",
      "memory usage: 37.5 MB\n"
     ]
    }
   ],
   "source": [
    "rech23_df.info()"
   ]
  },
  {
   "cell_type": "code",
   "execution_count": 11,
   "metadata": {},
   "outputs": [
    {
     "data": {
      "text/html": [
       "<div>\n",
       "<style scoped>\n",
       "    .dataframe tbody tr th:only-of-type {\n",
       "        vertical-align: middle;\n",
       "    }\n",
       "\n",
       "    .dataframe tbody tr th {\n",
       "        vertical-align: top;\n",
       "    }\n",
       "\n",
       "    .dataframe thead th {\n",
       "        text-align: right;\n",
       "    }\n",
       "</style>\n",
       "<table border=\"1\" class=\"dataframe\">\n",
       "  <thead>\n",
       "    <tr style=\"text-align: right;\">\n",
       "      <th></th>\n",
       "      <th>ID1</th>\n",
       "      <th>HHID</th>\n",
       "      <th>HV201</th>\n",
       "      <th>HV202</th>\n",
       "      <th>HV204</th>\n",
       "      <th>HV205</th>\n",
       "      <th>HV206</th>\n",
       "      <th>HV207</th>\n",
       "      <th>HV208</th>\n",
       "      <th>HV209</th>\n",
       "      <th>...</th>\n",
       "      <th>SH78</th>\n",
       "      <th>SH79</th>\n",
       "      <th>SH224</th>\n",
       "      <th>SH225U</th>\n",
       "      <th>SH225</th>\n",
       "      <th>SH227</th>\n",
       "      <th>QH227A</th>\n",
       "      <th>QH227B</th>\n",
       "      <th>HV270</th>\n",
       "      <th>HV271</th>\n",
       "    </tr>\n",
       "  </thead>\n",
       "  <tbody>\n",
       "  </tbody>\n",
       "</table>\n",
       "<p>0 rows × 131 columns</p>\n",
       "</div>"
      ],
      "text/plain": [
       "Empty DataFrame\n",
       "Columns: [ID1, HHID, HV201, HV202, HV204, HV205, HV206, HV207, HV208, HV209, HV210, HV211, HV212, HV213, HV214, HV215, HV216, HV217, HV218, HV219, HV220, HV221, HV225, HV226, HV227, HV228, HV234, HV235, HV236, HV237, HV237A, HV237B, HV237C, HV237D, HV237E, HV237F, HV237G, HV237H, HV237I, HV237J, HV237K, HV237X, HV237Z, HV238, HV239, HV240, HV241, HV242, HV243A, HV243B, HV243C, HV243D, HV244, HV245, HV246, HV246A, HV246B, HV246C, HV246D, HV246E, HV246F, HV246G, HV246H, HV246I, HV246J, HV246K, HV247, HV248, HV249, HV250, HV251, HML1, HML1A, HML2, SHVER, SHREGION, SHSEMES, SHPROVIN, SHDISTRI, SHTOTH, SHEQUIPO, SH42, SH43, SH48, SH49, SH50, SH51, SH52, SH56, SH58, SH59, SH60, SH61A, SH61B, SH61C, SH61D, SH61E, SH61J, SH61K, SH61L, ...]\n",
       "Index: []\n",
       "\n",
       "[0 rows x 131 columns]"
      ]
     },
     "execution_count": 11,
     "metadata": {},
     "output_type": "execute_result"
    }
   ],
   "source": [
    "rech23_df[rech23_df.duplicated('HHID')]"
   ]
  },
  {
   "cell_type": "markdown",
   "metadata": {},
   "source": [
    "#### Granularidad a nivel de hogar"
   ]
  }
 ],
 "metadata": {
  "kernelspec": {
   "display_name": "Python 3",
   "language": "python",
   "name": "python3"
  },
  "language_info": {
   "codemirror_mode": {
    "name": "ipython",
    "version": 3
   },
   "file_extension": ".py",
   "mimetype": "text/x-python",
   "name": "python",
   "nbconvert_exporter": "python",
   "pygments_lexer": "ipython3",
   "version": "3.7.6"
  }
 },
 "nbformat": 4,
 "nbformat_minor": 4
}
