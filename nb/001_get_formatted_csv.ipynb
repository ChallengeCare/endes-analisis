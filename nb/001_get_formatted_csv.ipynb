{
 "cells": [
  {
   "cell_type": "code",
   "execution_count": 13,
   "metadata": {},
   "outputs": [],
   "source": [
    "import numpy as np\n",
    "import pandas as pd\n",
    "import os\n",
    "import json"
   ]
  },
  {
   "cell_type": "code",
   "execution_count": 2,
   "metadata": {},
   "outputs": [],
   "source": [
    "general_file_path = '../files/01_csv'\n",
    "csv_prefix = 'AnyConv.com__'"
   ]
  },
  {
   "cell_type": "code",
   "execution_count": 11,
   "metadata": {},
   "outputs": [],
   "source": [
    "csv_path = '../files/02_dictionaries/01_csv_load'\n",
    "json_path = '../files/02_dictionaries/02_json_mapping'"
   ]
  },
  {
   "cell_type": "code",
   "execution_count": 9,
   "metadata": {},
   "outputs": [],
   "source": [
    "formatted_path = '../files/03_datasets/good_format/'"
   ]
  },
  {
   "cell_type": "code",
   "execution_count": 8,
   "metadata": {},
   "outputs": [
    {
     "data": {
      "text/plain": [
       "['CSALUD01',\n",
       " 'CSALUD08',\n",
       " 'Programas_Sociales_x_Hogar',\n",
       " 'PS_BECA_18',\n",
       " 'PS_COMEDOR',\n",
       " 'PS_PENSION65',\n",
       " 'PS_QALIWARMA',\n",
       " 'PS_TRABAJA',\n",
       " 'PS_VL',\n",
       " 'PS_WAWAWASI',\n",
       " 'RECH0',\n",
       " 'RECH23',\n",
       " 'RECH5',\n",
       " 'RECH6']"
      ]
     },
     "execution_count": 8,
     "metadata": {},
     "output_type": "execute_result"
    }
   ],
   "source": [
    "filenames_mapped =[os.path.splitext(f)[0] for f in  os.listdir(csv_path)]\n",
    "filenames_mapped"
   ]
  },
  {
   "cell_type": "code",
   "execution_count": 27,
   "metadata": {},
   "outputs": [
    {
     "name": "stdout",
     "output_type": "stream",
     "text": [
      "CSALUD01 processed.\n",
      "CSALUD08 processed.\n",
      "Programas_Sociales_x_Hogar processed.\n",
      "PS_BECA_18 processed.\n",
      "PS_COMEDOR processed.\n",
      "PS_PENSION65 processed.\n",
      "PS_QALIWARMA processed.\n",
      "PS_TRABAJA processed.\n",
      "PS_VL processed.\n",
      "PS_WAWAWASI processed.\n",
      "RECH0 processed.\n",
      "RECH23 processed.\n",
      "RECH5 processed.\n",
      "RECH6 processed.\n"
     ]
    }
   ],
   "source": [
    "for f in filenames_mapped:\n",
    "    data_df = pd.read_csv(f'{general_file_path}/{csv_prefix}{f}.csv')\n",
    "    data_df.columns = [column.split(',')[0] for column in data_df.columns]\n",
    "    \n",
    "    with open(f'{json_path}/{f}/columns.json') as json_file:\n",
    "        columns_dict = json.load(json_file)\n",
    "    \n",
    "    with open(f'{json_path}/{f}/labels.json') as json_file:\n",
    "        labels_dict = json.load(json_file)  \n",
    "        \n",
    "    data_df.rename(columns=columns_dict, inplace=True)\n",
    "    \n",
    "    #print(list(data_df.columns))\n",
    "    \n",
    "    def map_to_key(x):\n",
    "        try:\n",
    "            x = str(int(x))\n",
    "        except ValueError:\n",
    "            pass\n",
    "        return x\n",
    "    \n",
    "    for key, dict_values in labels_dict.items():\n",
    "        if key in data_df.columns:\n",
    "            data_df[f'{key}_LABEL'] = data_df[key].apply(lambda x: dict_values[map_to_key(x)] if map_to_key(x) in dict_values else x)\n",
    "        \n",
    "    data_df.to_csv(f'{formatted_path}/{f}_CLEAN.csv')\n",
    "    print(f'{f} processed.')\n",
    "    \n",
    "    \n",
    "    "
   ]
  }
 ],
 "metadata": {
  "kernelspec": {
   "display_name": "Python 3",
   "language": "python",
   "name": "python3"
  },
  "language_info": {
   "codemirror_mode": {
    "name": "ipython",
    "version": 3
   },
   "file_extension": ".py",
   "mimetype": "text/x-python",
   "name": "python",
   "nbconvert_exporter": "python",
   "pygments_lexer": "ipython3",
   "version": "3.7.6"
  }
 },
 "nbformat": 4,
 "nbformat_minor": 4
}
