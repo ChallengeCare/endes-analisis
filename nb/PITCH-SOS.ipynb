{
 "cells": [
  {
   "cell_type": "code",
   "execution_count": 1,
   "metadata": {},
   "outputs": [],
   "source": [
    "import numpy as np\n",
    "import pandas as pd\n",
    "import os"
   ]
  },
  {
   "cell_type": "code",
   "execution_count": 2,
   "metadata": {},
   "outputs": [
    {
     "name": "stderr",
     "output_type": "stream",
     "text": [
      "C:\\ProgramData\\Anaconda3\\lib\\site-packages\\IPython\\core\\interactiveshell.py:3071: DtypeWarning: Columns (4) have mixed types.Specify dtype option on import or set low_memory=False.\n",
      "  has_raised = await self.run_ast_nodes(code_ast.body, cell_name,\n"
     ]
    }
   ],
   "source": [
    "df_hogar = pd.read_csv('../files/01_csv/csv_consolidated/hogar.csv')\n",
    "df_persona = pd.read_csv('../files/01_csv/csv_consolidated/persona.csv')\n",
    "df_vivienda = pd.read_csv('../files/01_csv/csv_consolidated/vivienda.csv')"
   ]
  },
  {
   "cell_type": "code",
   "execution_count": 3,
   "metadata": {},
   "outputs": [
    {
     "data": {
      "text/html": [
       "<div>\n",
       "<style scoped>\n",
       "    .dataframe tbody tr th:only-of-type {\n",
       "        vertical-align: middle;\n",
       "    }\n",
       "\n",
       "    .dataframe tbody tr th {\n",
       "        vertical-align: top;\n",
       "    }\n",
       "\n",
       "    .dataframe thead th {\n",
       "        text-align: right;\n",
       "    }\n",
       "</style>\n",
       "<table border=\"1\" class=\"dataframe\">\n",
       "  <thead>\n",
       "    <tr style=\"text-align: right;\">\n",
       "      <th></th>\n",
       "      <th>ID1</th>\n",
       "      <th>HHID</th>\n",
       "      <th>HV012</th>\n",
       "      <th>HV013</th>\n",
       "      <th>HV024</th>\n",
       "      <th>HV025</th>\n",
       "    </tr>\n",
       "  </thead>\n",
       "  <tbody>\n",
       "    <tr>\n",
       "      <th>0</th>\n",
       "      <td>2014</td>\n",
       "      <td>252300501</td>\n",
       "      <td>4</td>\n",
       "      <td>4</td>\n",
       "      <td>Lima</td>\n",
       "      <td>Urbano</td>\n",
       "    </tr>\n",
       "    <tr>\n",
       "      <th>1</th>\n",
       "      <td>2014</td>\n",
       "      <td>252301601</td>\n",
       "      <td>11</td>\n",
       "      <td>11</td>\n",
       "      <td>Lima</td>\n",
       "      <td>Urbano</td>\n",
       "    </tr>\n",
       "    <tr>\n",
       "      <th>2</th>\n",
       "      <td>2014</td>\n",
       "      <td>252302701</td>\n",
       "      <td>5</td>\n",
       "      <td>5</td>\n",
       "      <td>Lima</td>\n",
       "      <td>Urbano</td>\n",
       "    </tr>\n",
       "    <tr>\n",
       "      <th>3</th>\n",
       "      <td>2014</td>\n",
       "      <td>252303801</td>\n",
       "      <td>8</td>\n",
       "      <td>8</td>\n",
       "      <td>Lima</td>\n",
       "      <td>Urbano</td>\n",
       "    </tr>\n",
       "    <tr>\n",
       "      <th>4</th>\n",
       "      <td>2014</td>\n",
       "      <td>252304901</td>\n",
       "      <td>3</td>\n",
       "      <td>3</td>\n",
       "      <td>Lima</td>\n",
       "      <td>Urbano</td>\n",
       "    </tr>\n",
       "  </tbody>\n",
       "</table>\n",
       "</div>"
      ],
      "text/plain": [
       "    ID1       HHID  HV012  HV013 HV024   HV025\n",
       "0  2014  252300501      4      4  Lima  Urbano\n",
       "1  2014  252301601     11     11  Lima  Urbano\n",
       "2  2014  252302701      5      5  Lima  Urbano\n",
       "3  2014  252303801      8      8  Lima  Urbano\n",
       "4  2014  252304901      3      3  Lima  Urbano"
      ]
     },
     "execution_count": 3,
     "metadata": {},
     "output_type": "execute_result"
    }
   ],
   "source": [
    "df_hogar.head()"
   ]
  },
  {
   "cell_type": "code",
   "execution_count": 4,
   "metadata": {},
   "outputs": [
    {
     "data": {
      "text/html": [
       "<div>\n",
       "<style scoped>\n",
       "    .dataframe tbody tr th:only-of-type {\n",
       "        vertical-align: middle;\n",
       "    }\n",
       "\n",
       "    .dataframe tbody tr th {\n",
       "        vertical-align: top;\n",
       "    }\n",
       "\n",
       "    .dataframe thead th {\n",
       "        text-align: right;\n",
       "    }\n",
       "</style>\n",
       "<table border=\"1\" class=\"dataframe\">\n",
       "  <thead>\n",
       "    <tr style=\"text-align: right;\">\n",
       "      <th></th>\n",
       "      <th>ID1</th>\n",
       "      <th>HHID</th>\n",
       "      <th>HVIDX</th>\n",
       "      <th>HV104</th>\n",
       "      <th>HV105</th>\n",
       "      <th>HV109</th>\n",
       "    </tr>\n",
       "  </thead>\n",
       "  <tbody>\n",
       "    <tr>\n",
       "      <th>0</th>\n",
       "      <td>2014</td>\n",
       "      <td>142700601</td>\n",
       "      <td>1</td>\n",
       "      <td>Femenino</td>\n",
       "      <td>18</td>\n",
       "      <td>Superior</td>\n",
       "    </tr>\n",
       "    <tr>\n",
       "      <th>1</th>\n",
       "      <td>2014</td>\n",
       "      <td>142701701</td>\n",
       "      <td>1</td>\n",
       "      <td>Masculino</td>\n",
       "      <td>34</td>\n",
       "      <td>Superior</td>\n",
       "    </tr>\n",
       "    <tr>\n",
       "      <th>2</th>\n",
       "      <td>2014</td>\n",
       "      <td>142701701</td>\n",
       "      <td>2</td>\n",
       "      <td>Femenino</td>\n",
       "      <td>35</td>\n",
       "      <td>Superior</td>\n",
       "    </tr>\n",
       "    <tr>\n",
       "      <th>3</th>\n",
       "      <td>2014</td>\n",
       "      <td>142701701</td>\n",
       "      <td>3</td>\n",
       "      <td>Femenino</td>\n",
       "      <td>12</td>\n",
       "      <td>Secundaria incompleta</td>\n",
       "    </tr>\n",
       "    <tr>\n",
       "      <th>4</th>\n",
       "      <td>2014</td>\n",
       "      <td>142701701</td>\n",
       "      <td>4</td>\n",
       "      <td>Femenino</td>\n",
       "      <td>8</td>\n",
       "      <td>Primeria incompleta</td>\n",
       "    </tr>\n",
       "  </tbody>\n",
       "</table>\n",
       "</div>"
      ],
      "text/plain": [
       "    ID1       HHID  HVIDX      HV104 HV105                  HV109\n",
       "0  2014  142700601      1   Femenino    18               Superior\n",
       "1  2014  142701701      1  Masculino    34               Superior\n",
       "2  2014  142701701      2   Femenino    35               Superior\n",
       "3  2014  142701701      3   Femenino    12  Secundaria incompleta\n",
       "4  2014  142701701      4   Femenino     8    Primeria incompleta"
      ]
     },
     "execution_count": 4,
     "metadata": {},
     "output_type": "execute_result"
    }
   ],
   "source": [
    "df_persona.head()"
   ]
  },
  {
   "cell_type": "code",
   "execution_count": 5,
   "metadata": {},
   "outputs": [
    {
     "data": {
      "text/html": [
       "<div>\n",
       "<style scoped>\n",
       "    .dataframe tbody tr th:only-of-type {\n",
       "        vertical-align: middle;\n",
       "    }\n",
       "\n",
       "    .dataframe tbody tr th {\n",
       "        vertical-align: top;\n",
       "    }\n",
       "\n",
       "    .dataframe thead th {\n",
       "        text-align: right;\n",
       "    }\n",
       "</style>\n",
       "<table border=\"1\" class=\"dataframe\">\n",
       "  <thead>\n",
       "    <tr style=\"text-align: right;\">\n",
       "      <th></th>\n",
       "      <th>ID1</th>\n",
       "      <th>HHID</th>\n",
       "      <th>HV201</th>\n",
       "      <th>HV205</th>\n",
       "      <th>HV213</th>\n",
       "      <th>HV270</th>\n",
       "    </tr>\n",
       "  </thead>\n",
       "  <tbody>\n",
       "    <tr>\n",
       "      <th>0</th>\n",
       "      <td>2014</td>\n",
       "      <td>142700601</td>\n",
       "      <td>Red fuera de la vivienda pero dentro de la edi...</td>\n",
       "      <td>Conectado a red publica fuera de la vivienda</td>\n",
       "      <td>Cemento / Ladrillo</td>\n",
       "      <td>3 - Medio</td>\n",
       "    </tr>\n",
       "    <tr>\n",
       "      <th>1</th>\n",
       "      <td>2014</td>\n",
       "      <td>142701701</td>\n",
       "      <td>Red dentro de la vivienda</td>\n",
       "      <td>Conectado a red publica dentro de la vivienda</td>\n",
       "      <td>Cemento / Ladrillo</td>\n",
       "      <td>3 - Medio</td>\n",
       "    </tr>\n",
       "    <tr>\n",
       "      <th>2</th>\n",
       "      <td>2014</td>\n",
       "      <td>142702901</td>\n",
       "      <td>Red dentro de la vivienda</td>\n",
       "      <td>Conectado a red publica dentro de la vivienda</td>\n",
       "      <td>Losetas / terrazos</td>\n",
       "      <td>4 - Rico</td>\n",
       "    </tr>\n",
       "    <tr>\n",
       "      <th>3</th>\n",
       "      <td>2014</td>\n",
       "      <td>142704001</td>\n",
       "      <td>Red dentro de la vivienda</td>\n",
       "      <td>Conectado a red publica dentro de la vivienda</td>\n",
       "      <td>Losetas / terrazos</td>\n",
       "      <td>5 - Muy rico</td>\n",
       "    </tr>\n",
       "    <tr>\n",
       "      <th>4</th>\n",
       "      <td>2014</td>\n",
       "      <td>142705101</td>\n",
       "      <td>Red fuera de la vivienda pero dentro de la edi...</td>\n",
       "      <td>Conectado a red publica fuera de la vivienda</td>\n",
       "      <td>Cemento / Ladrillo</td>\n",
       "      <td>2 - Pobre</td>\n",
       "    </tr>\n",
       "  </tbody>\n",
       "</table>\n",
       "</div>"
      ],
      "text/plain": [
       "    ID1       HHID                                              HV201  \\\n",
       "0  2014  142700601  Red fuera de la vivienda pero dentro de la edi...   \n",
       "1  2014  142701701                          Red dentro de la vivienda   \n",
       "2  2014  142702901                          Red dentro de la vivienda   \n",
       "3  2014  142704001                          Red dentro de la vivienda   \n",
       "4  2014  142705101  Red fuera de la vivienda pero dentro de la edi...   \n",
       "\n",
       "                                           HV205               HV213  \\\n",
       "0   Conectado a red publica fuera de la vivienda  Cemento / Ladrillo   \n",
       "1  Conectado a red publica dentro de la vivienda  Cemento / Ladrillo   \n",
       "2  Conectado a red publica dentro de la vivienda  Losetas / terrazos   \n",
       "3  Conectado a red publica dentro de la vivienda  Losetas / terrazos   \n",
       "4   Conectado a red publica fuera de la vivienda  Cemento / Ladrillo   \n",
       "\n",
       "          HV270  \n",
       "0     3 - Medio  \n",
       "1     3 - Medio  \n",
       "2      4 - Rico  \n",
       "3  5 - Muy rico  \n",
       "4     2 - Pobre  "
      ]
     },
     "execution_count": 5,
     "metadata": {},
     "output_type": "execute_result"
    }
   ],
   "source": [
    "df_vivienda.head()"
   ]
  },
  {
   "cell_type": "code",
   "execution_count": 6,
   "metadata": {},
   "outputs": [
    {
     "name": "stdout",
     "output_type": "stream",
     "text": [
      "(215255, 6)\n",
      "(197430, 6)\n",
      "(833507, 6)\n"
     ]
    }
   ],
   "source": [
    "print(df_hogar.shape)\n",
    "print(df_vivienda.shape)\n",
    "print(df_persona.shape)"
   ]
  },
  {
   "cell_type": "code",
   "execution_count": 7,
   "metadata": {},
   "outputs": [],
   "source": [
    "df_home = pd.merge(df_hogar, df_vivienda, how='inner', on=['ID1', 'HHID'])"
   ]
  },
  {
   "cell_type": "code",
   "execution_count": 8,
   "metadata": {},
   "outputs": [],
   "source": [
    "df_full = pd.merge(df_home, df_persona, how='inner', on=['ID1', 'HHID'])"
   ]
  },
  {
   "cell_type": "code",
   "execution_count": 9,
   "metadata": {},
   "outputs": [
    {
     "data": {
      "text/plain": [
       "(818990, 14)"
      ]
     },
     "execution_count": 9,
     "metadata": {},
     "output_type": "execute_result"
    }
   ],
   "source": [
    "df_full.shape"
   ]
  },
  {
   "cell_type": "code",
   "execution_count": 10,
   "metadata": {},
   "outputs": [
    {
     "data": {
      "text/html": [
       "<div>\n",
       "<style scoped>\n",
       "    .dataframe tbody tr th:only-of-type {\n",
       "        vertical-align: middle;\n",
       "    }\n",
       "\n",
       "    .dataframe tbody tr th {\n",
       "        vertical-align: top;\n",
       "    }\n",
       "\n",
       "    .dataframe thead th {\n",
       "        text-align: right;\n",
       "    }\n",
       "</style>\n",
       "<table border=\"1\" class=\"dataframe\">\n",
       "  <thead>\n",
       "    <tr style=\"text-align: right;\">\n",
       "      <th></th>\n",
       "      <th>ID1</th>\n",
       "      <th>HHID</th>\n",
       "      <th>HV012</th>\n",
       "      <th>HV013</th>\n",
       "      <th>HV024</th>\n",
       "      <th>HV025</th>\n",
       "      <th>HV201</th>\n",
       "      <th>HV205</th>\n",
       "      <th>HV213</th>\n",
       "      <th>HV270</th>\n",
       "      <th>HVIDX</th>\n",
       "      <th>HV104</th>\n",
       "      <th>HV105</th>\n",
       "      <th>HV109</th>\n",
       "    </tr>\n",
       "  </thead>\n",
       "  <tbody>\n",
       "    <tr>\n",
       "      <th>0</th>\n",
       "      <td>2014</td>\n",
       "      <td>252300501</td>\n",
       "      <td>4</td>\n",
       "      <td>4</td>\n",
       "      <td>Lima</td>\n",
       "      <td>Urbano</td>\n",
       "      <td>Red dentro de la vivienda</td>\n",
       "      <td>Conectado a red publica dentro de la vivienda</td>\n",
       "      <td>Cemento / Ladrillo</td>\n",
       "      <td>5 - Muy rico</td>\n",
       "      <td>1</td>\n",
       "      <td>Masculino</td>\n",
       "      <td>38</td>\n",
       "      <td>Secundaria incompleta</td>\n",
       "    </tr>\n",
       "    <tr>\n",
       "      <th>1</th>\n",
       "      <td>2014</td>\n",
       "      <td>252300501</td>\n",
       "      <td>4</td>\n",
       "      <td>4</td>\n",
       "      <td>Lima</td>\n",
       "      <td>Urbano</td>\n",
       "      <td>Red dentro de la vivienda</td>\n",
       "      <td>Conectado a red publica dentro de la vivienda</td>\n",
       "      <td>Cemento / Ladrillo</td>\n",
       "      <td>5 - Muy rico</td>\n",
       "      <td>2</td>\n",
       "      <td>Femenino</td>\n",
       "      <td>32</td>\n",
       "      <td>Secundaria incompleta</td>\n",
       "    </tr>\n",
       "    <tr>\n",
       "      <th>2</th>\n",
       "      <td>2014</td>\n",
       "      <td>252300501</td>\n",
       "      <td>4</td>\n",
       "      <td>4</td>\n",
       "      <td>Lima</td>\n",
       "      <td>Urbano</td>\n",
       "      <td>Red dentro de la vivienda</td>\n",
       "      <td>Conectado a red publica dentro de la vivienda</td>\n",
       "      <td>Cemento / Ladrillo</td>\n",
       "      <td>5 - Muy rico</td>\n",
       "      <td>3</td>\n",
       "      <td>Masculino</td>\n",
       "      <td>13</td>\n",
       "      <td>Secundaria incompleta</td>\n",
       "    </tr>\n",
       "    <tr>\n",
       "      <th>3</th>\n",
       "      <td>2014</td>\n",
       "      <td>252300501</td>\n",
       "      <td>4</td>\n",
       "      <td>4</td>\n",
       "      <td>Lima</td>\n",
       "      <td>Urbano</td>\n",
       "      <td>Red dentro de la vivienda</td>\n",
       "      <td>Conectado a red publica dentro de la vivienda</td>\n",
       "      <td>Cemento / Ladrillo</td>\n",
       "      <td>5 - Muy rico</td>\n",
       "      <td>4</td>\n",
       "      <td>Femenino</td>\n",
       "      <td>5</td>\n",
       "      <td>Sin educacion</td>\n",
       "    </tr>\n",
       "    <tr>\n",
       "      <th>4</th>\n",
       "      <td>2014</td>\n",
       "      <td>252301601</td>\n",
       "      <td>11</td>\n",
       "      <td>11</td>\n",
       "      <td>Lima</td>\n",
       "      <td>Urbano</td>\n",
       "      <td>Red dentro de la vivienda</td>\n",
       "      <td>Conectado a red publica dentro de la vivienda</td>\n",
       "      <td>Cemento / Ladrillo</td>\n",
       "      <td>4 - Rico</td>\n",
       "      <td>1</td>\n",
       "      <td>Masculino</td>\n",
       "      <td>50</td>\n",
       "      <td>Secundaria incompleta</td>\n",
       "    </tr>\n",
       "  </tbody>\n",
       "</table>\n",
       "</div>"
      ],
      "text/plain": [
       "    ID1       HHID  HV012  HV013 HV024   HV025                      HV201  \\\n",
       "0  2014  252300501      4      4  Lima  Urbano  Red dentro de la vivienda   \n",
       "1  2014  252300501      4      4  Lima  Urbano  Red dentro de la vivienda   \n",
       "2  2014  252300501      4      4  Lima  Urbano  Red dentro de la vivienda   \n",
       "3  2014  252300501      4      4  Lima  Urbano  Red dentro de la vivienda   \n",
       "4  2014  252301601     11     11  Lima  Urbano  Red dentro de la vivienda   \n",
       "\n",
       "                                           HV205               HV213  \\\n",
       "0  Conectado a red publica dentro de la vivienda  Cemento / Ladrillo   \n",
       "1  Conectado a red publica dentro de la vivienda  Cemento / Ladrillo   \n",
       "2  Conectado a red publica dentro de la vivienda  Cemento / Ladrillo   \n",
       "3  Conectado a red publica dentro de la vivienda  Cemento / Ladrillo   \n",
       "4  Conectado a red publica dentro de la vivienda  Cemento / Ladrillo   \n",
       "\n",
       "          HV270  HVIDX      HV104 HV105                  HV109  \n",
       "0  5 - Muy rico      1  Masculino    38  Secundaria incompleta  \n",
       "1  5 - Muy rico      2   Femenino    32  Secundaria incompleta  \n",
       "2  5 - Muy rico      3  Masculino    13  Secundaria incompleta  \n",
       "3  5 - Muy rico      4   Femenino     5          Sin educacion  \n",
       "4      4 - Rico      1  Masculino    50  Secundaria incompleta  "
      ]
     },
     "execution_count": 10,
     "metadata": {},
     "output_type": "execute_result"
    }
   ],
   "source": [
    "df_full.head()"
   ]
  },
  {
   "cell_type": "code",
   "execution_count": 11,
   "metadata": {},
   "outputs": [],
   "source": [
    "import lightgbm as lgbm"
   ]
  },
  {
   "cell_type": "code",
   "execution_count": 12,
   "metadata": {},
   "outputs": [
    {
     "data": {
      "text/html": [
       "<div>\n",
       "<style scoped>\n",
       "    .dataframe tbody tr th:only-of-type {\n",
       "        vertical-align: middle;\n",
       "    }\n",
       "\n",
       "    .dataframe tbody tr th {\n",
       "        vertical-align: top;\n",
       "    }\n",
       "\n",
       "    .dataframe thead th {\n",
       "        text-align: right;\n",
       "    }\n",
       "</style>\n",
       "<table border=\"1\" class=\"dataframe\">\n",
       "  <thead>\n",
       "    <tr style=\"text-align: right;\">\n",
       "      <th></th>\n",
       "      <th>ID1</th>\n",
       "      <th>HHID</th>\n",
       "      <th>HV012</th>\n",
       "      <th>HV013</th>\n",
       "      <th>HVIDX</th>\n",
       "    </tr>\n",
       "  </thead>\n",
       "  <tbody>\n",
       "    <tr>\n",
       "      <th>count</th>\n",
       "      <td>818990.000000</td>\n",
       "      <td>8.189900e+05</td>\n",
       "      <td>818990.000000</td>\n",
       "      <td>818990.000000</td>\n",
       "      <td>818990.000000</td>\n",
       "    </tr>\n",
       "    <tr>\n",
       "      <th>mean</th>\n",
       "      <td>2016.597134</td>\n",
       "      <td>1.680058e+08</td>\n",
       "      <td>4.982530</td>\n",
       "      <td>4.843755</td>\n",
       "      <td>3.048064</td>\n",
       "    </tr>\n",
       "    <tr>\n",
       "      <th>std</th>\n",
       "      <td>1.665514</td>\n",
       "      <td>9.015534e+07</td>\n",
       "      <td>2.101843</td>\n",
       "      <td>2.179731</td>\n",
       "      <td>1.903678</td>\n",
       "    </tr>\n",
       "    <tr>\n",
       "      <th>min</th>\n",
       "      <td>2014.000000</td>\n",
       "      <td>1.002010e+05</td>\n",
       "      <td>0.000000</td>\n",
       "      <td>0.000000</td>\n",
       "      <td>1.000000</td>\n",
       "    </tr>\n",
       "    <tr>\n",
       "      <th>25%</th>\n",
       "      <td>2015.000000</td>\n",
       "      <td>9.221420e+07</td>\n",
       "      <td>4.000000</td>\n",
       "      <td>3.000000</td>\n",
       "      <td>2.000000</td>\n",
       "    </tr>\n",
       "    <tr>\n",
       "      <th>50%</th>\n",
       "      <td>2017.000000</td>\n",
       "      <td>1.742083e+08</td>\n",
       "      <td>5.000000</td>\n",
       "      <td>5.000000</td>\n",
       "      <td>3.000000</td>\n",
       "    </tr>\n",
       "    <tr>\n",
       "      <th>75%</th>\n",
       "      <td>2018.000000</td>\n",
       "      <td>2.431088e+08</td>\n",
       "      <td>6.000000</td>\n",
       "      <td>6.000000</td>\n",
       "      <td>4.000000</td>\n",
       "    </tr>\n",
       "    <tr>\n",
       "      <th>max</th>\n",
       "      <td>2019.000000</td>\n",
       "      <td>3.254074e+08</td>\n",
       "      <td>21.000000</td>\n",
       "      <td>21.000000</td>\n",
       "      <td>21.000000</td>\n",
       "    </tr>\n",
       "  </tbody>\n",
       "</table>\n",
       "</div>"
      ],
      "text/plain": [
       "                 ID1          HHID          HV012          HV013  \\\n",
       "count  818990.000000  8.189900e+05  818990.000000  818990.000000   \n",
       "mean     2016.597134  1.680058e+08       4.982530       4.843755   \n",
       "std         1.665514  9.015534e+07       2.101843       2.179731   \n",
       "min      2014.000000  1.002010e+05       0.000000       0.000000   \n",
       "25%      2015.000000  9.221420e+07       4.000000       3.000000   \n",
       "50%      2017.000000  1.742083e+08       5.000000       5.000000   \n",
       "75%      2018.000000  2.431088e+08       6.000000       6.000000   \n",
       "max      2019.000000  3.254074e+08      21.000000      21.000000   \n",
       "\n",
       "               HVIDX  \n",
       "count  818990.000000  \n",
       "mean        3.048064  \n",
       "std         1.903678  \n",
       "min         1.000000  \n",
       "25%         2.000000  \n",
       "50%         3.000000  \n",
       "75%         4.000000  \n",
       "max        21.000000  "
      ]
     },
     "execution_count": 12,
     "metadata": {},
     "output_type": "execute_result"
    }
   ],
   "source": [
    "df_full.describe()"
   ]
  },
  {
   "cell_type": "code",
   "execution_count": 13,
   "metadata": {},
   "outputs": [
    {
     "name": "stdout",
     "output_type": "stream",
     "text": [
      "<class 'pandas.core.frame.DataFrame'>\n",
      "Int64Index: 818990 entries, 0 to 818989\n",
      "Data columns (total 14 columns):\n",
      " #   Column  Non-Null Count   Dtype \n",
      "---  ------  --------------   ----- \n",
      " 0   ID1     818990 non-null  int64 \n",
      " 1   HHID    818990 non-null  int64 \n",
      " 2   HV012   818990 non-null  int64 \n",
      " 3   HV013   818990 non-null  int64 \n",
      " 4   HV024   818990 non-null  object\n",
      " 5   HV025   818990 non-null  object\n",
      " 6   HV201   818990 non-null  object\n",
      " 7   HV205   818990 non-null  object\n",
      " 8   HV213   818990 non-null  object\n",
      " 9   HV270   818990 non-null  object\n",
      " 10  HVIDX   818990 non-null  int64 \n",
      " 11  HV104   818990 non-null  object\n",
      " 12  HV105   818990 non-null  object\n",
      " 13  HV109   818990 non-null  object\n",
      "dtypes: int64(5), object(9)\n",
      "memory usage: 93.7+ MB\n"
     ]
    }
   ],
   "source": [
    "df_full.info()"
   ]
  },
  {
   "cell_type": "code",
   "execution_count": 14,
   "metadata": {},
   "outputs": [
    {
     "data": {
      "text/plain": [
       "Index(['ID1', 'HHID', 'HV012', 'HV013', 'HV024', 'HV025', 'HV201', 'HV205',\n",
       "       'HV213', 'HV270', 'HVIDX', 'HV104', 'HV105', 'HV109'],\n",
       "      dtype='object')"
      ]
     },
     "execution_count": 14,
     "metadata": {},
     "output_type": "execute_result"
    }
   ],
   "source": [
    "df_full.columns"
   ]
  },
  {
   "cell_type": "code",
   "execution_count": 15,
   "metadata": {},
   "outputs": [],
   "source": [
    "df_full.columns = ['anho', 'casa_id', 'nro_vivientes_jure',\n",
    "                   'nro_vivientes_facto','region','area_residencia',\n",
    "                   'fuente_agua','tipo_banho','tipo_piso','indice_riqueza',\n",
    "                   'persona_id','sexo','edad','educacion'\n",
    "                  ]"
   ]
  },
  {
   "cell_type": "code",
   "execution_count": 16,
   "metadata": {},
   "outputs": [
    {
     "data": {
      "text/html": [
       "<div>\n",
       "<style scoped>\n",
       "    .dataframe tbody tr th:only-of-type {\n",
       "        vertical-align: middle;\n",
       "    }\n",
       "\n",
       "    .dataframe tbody tr th {\n",
       "        vertical-align: top;\n",
       "    }\n",
       "\n",
       "    .dataframe thead th {\n",
       "        text-align: right;\n",
       "    }\n",
       "</style>\n",
       "<table border=\"1\" class=\"dataframe\">\n",
       "  <thead>\n",
       "    <tr style=\"text-align: right;\">\n",
       "      <th></th>\n",
       "      <th>anho</th>\n",
       "      <th>casa_id</th>\n",
       "      <th>nro_vivientes_jure</th>\n",
       "      <th>nro_vivientes_facto</th>\n",
       "      <th>region</th>\n",
       "      <th>area_residencia</th>\n",
       "      <th>fuente_agua</th>\n",
       "      <th>tipo_banho</th>\n",
       "      <th>tipo_piso</th>\n",
       "      <th>indice_riqueza</th>\n",
       "      <th>persona_id</th>\n",
       "      <th>sexo</th>\n",
       "      <th>edad</th>\n",
       "      <th>educacion</th>\n",
       "    </tr>\n",
       "  </thead>\n",
       "  <tbody>\n",
       "    <tr>\n",
       "      <th>0</th>\n",
       "      <td>2014</td>\n",
       "      <td>252300501</td>\n",
       "      <td>4</td>\n",
       "      <td>4</td>\n",
       "      <td>Lima</td>\n",
       "      <td>Urbano</td>\n",
       "      <td>Red dentro de la vivienda</td>\n",
       "      <td>Conectado a red publica dentro de la vivienda</td>\n",
       "      <td>Cemento / Ladrillo</td>\n",
       "      <td>5 - Muy rico</td>\n",
       "      <td>1</td>\n",
       "      <td>Masculino</td>\n",
       "      <td>38</td>\n",
       "      <td>Secundaria incompleta</td>\n",
       "    </tr>\n",
       "    <tr>\n",
       "      <th>1</th>\n",
       "      <td>2014</td>\n",
       "      <td>252300501</td>\n",
       "      <td>4</td>\n",
       "      <td>4</td>\n",
       "      <td>Lima</td>\n",
       "      <td>Urbano</td>\n",
       "      <td>Red dentro de la vivienda</td>\n",
       "      <td>Conectado a red publica dentro de la vivienda</td>\n",
       "      <td>Cemento / Ladrillo</td>\n",
       "      <td>5 - Muy rico</td>\n",
       "      <td>2</td>\n",
       "      <td>Femenino</td>\n",
       "      <td>32</td>\n",
       "      <td>Secundaria incompleta</td>\n",
       "    </tr>\n",
       "    <tr>\n",
       "      <th>2</th>\n",
       "      <td>2014</td>\n",
       "      <td>252300501</td>\n",
       "      <td>4</td>\n",
       "      <td>4</td>\n",
       "      <td>Lima</td>\n",
       "      <td>Urbano</td>\n",
       "      <td>Red dentro de la vivienda</td>\n",
       "      <td>Conectado a red publica dentro de la vivienda</td>\n",
       "      <td>Cemento / Ladrillo</td>\n",
       "      <td>5 - Muy rico</td>\n",
       "      <td>3</td>\n",
       "      <td>Masculino</td>\n",
       "      <td>13</td>\n",
       "      <td>Secundaria incompleta</td>\n",
       "    </tr>\n",
       "    <tr>\n",
       "      <th>3</th>\n",
       "      <td>2014</td>\n",
       "      <td>252300501</td>\n",
       "      <td>4</td>\n",
       "      <td>4</td>\n",
       "      <td>Lima</td>\n",
       "      <td>Urbano</td>\n",
       "      <td>Red dentro de la vivienda</td>\n",
       "      <td>Conectado a red publica dentro de la vivienda</td>\n",
       "      <td>Cemento / Ladrillo</td>\n",
       "      <td>5 - Muy rico</td>\n",
       "      <td>4</td>\n",
       "      <td>Femenino</td>\n",
       "      <td>5</td>\n",
       "      <td>Sin educacion</td>\n",
       "    </tr>\n",
       "    <tr>\n",
       "      <th>4</th>\n",
       "      <td>2014</td>\n",
       "      <td>252301601</td>\n",
       "      <td>11</td>\n",
       "      <td>11</td>\n",
       "      <td>Lima</td>\n",
       "      <td>Urbano</td>\n",
       "      <td>Red dentro de la vivienda</td>\n",
       "      <td>Conectado a red publica dentro de la vivienda</td>\n",
       "      <td>Cemento / Ladrillo</td>\n",
       "      <td>4 - Rico</td>\n",
       "      <td>1</td>\n",
       "      <td>Masculino</td>\n",
       "      <td>50</td>\n",
       "      <td>Secundaria incompleta</td>\n",
       "    </tr>\n",
       "  </tbody>\n",
       "</table>\n",
       "</div>"
      ],
      "text/plain": [
       "   anho    casa_id  nro_vivientes_jure  nro_vivientes_facto region  \\\n",
       "0  2014  252300501                   4                    4   Lima   \n",
       "1  2014  252300501                   4                    4   Lima   \n",
       "2  2014  252300501                   4                    4   Lima   \n",
       "3  2014  252300501                   4                    4   Lima   \n",
       "4  2014  252301601                  11                   11   Lima   \n",
       "\n",
       "  area_residencia                fuente_agua  \\\n",
       "0          Urbano  Red dentro de la vivienda   \n",
       "1          Urbano  Red dentro de la vivienda   \n",
       "2          Urbano  Red dentro de la vivienda   \n",
       "3          Urbano  Red dentro de la vivienda   \n",
       "4          Urbano  Red dentro de la vivienda   \n",
       "\n",
       "                                      tipo_banho           tipo_piso  \\\n",
       "0  Conectado a red publica dentro de la vivienda  Cemento / Ladrillo   \n",
       "1  Conectado a red publica dentro de la vivienda  Cemento / Ladrillo   \n",
       "2  Conectado a red publica dentro de la vivienda  Cemento / Ladrillo   \n",
       "3  Conectado a red publica dentro de la vivienda  Cemento / Ladrillo   \n",
       "4  Conectado a red publica dentro de la vivienda  Cemento / Ladrillo   \n",
       "\n",
       "  indice_riqueza  persona_id       sexo edad              educacion  \n",
       "0   5 - Muy rico           1  Masculino   38  Secundaria incompleta  \n",
       "1   5 - Muy rico           2   Femenino   32  Secundaria incompleta  \n",
       "2   5 - Muy rico           3  Masculino   13  Secundaria incompleta  \n",
       "3   5 - Muy rico           4   Femenino    5          Sin educacion  \n",
       "4       4 - Rico           1  Masculino   50  Secundaria incompleta  "
      ]
     },
     "execution_count": 16,
     "metadata": {},
     "output_type": "execute_result"
    }
   ],
   "source": [
    "df_full.head()"
   ]
  },
  {
   "cell_type": "code",
   "execution_count": 17,
   "metadata": {},
   "outputs": [
    {
     "name": "stdout",
     "output_type": "stream",
     "text": [
      "<class 'pandas.core.frame.DataFrame'>\n",
      "Int64Index: 818990 entries, 0 to 818989\n",
      "Data columns (total 14 columns):\n",
      " #   Column               Non-Null Count   Dtype \n",
      "---  ------               --------------   ----- \n",
      " 0   anho                 818990 non-null  int64 \n",
      " 1   casa_id              818990 non-null  int64 \n",
      " 2   nro_vivientes_jure   818990 non-null  int64 \n",
      " 3   nro_vivientes_facto  818990 non-null  int64 \n",
      " 4   region               818990 non-null  object\n",
      " 5   area_residencia      818990 non-null  object\n",
      " 6   fuente_agua          818990 non-null  object\n",
      " 7   tipo_banho           818990 non-null  object\n",
      " 8   tipo_piso            818990 non-null  object\n",
      " 9   indice_riqueza       818990 non-null  object\n",
      " 10  persona_id           818990 non-null  int64 \n",
      " 11  sexo                 818990 non-null  object\n",
      " 12  edad                 818990 non-null  object\n",
      " 13  educacion            818990 non-null  object\n",
      "dtypes: int64(5), object(9)\n",
      "memory usage: 93.7+ MB\n"
     ]
    }
   ],
   "source": [
    "df_full.info()"
   ]
  },
  {
   "cell_type": "code",
   "execution_count": 18,
   "metadata": {},
   "outputs": [
    {
     "data": {
      "text/plain": [
       "3      19240\n",
       "4      19029\n",
       "2      18614\n",
       "1      18191\n",
       "0      16053\n",
       "       ...  \n",
       "94        49\n",
       "95        49\n",
       "97+       38\n",
       "98        10\n",
       "98         1\n",
       "Name: edad, Length: 199, dtype: int64"
      ]
     },
     "execution_count": 18,
     "metadata": {},
     "output_type": "execute_result"
    }
   ],
   "source": [
    "df_full.edad.value_counts()"
   ]
  },
  {
   "cell_type": "code",
   "execution_count": 21,
   "metadata": {},
   "outputs": [],
   "source": [
    "df_full.loc[df_full['edad'] == '97+', 'edad'] = 97\n",
    "df_full.loc[df_full['edad'] == 98, 'edad'] = np.nan\n",
    "df_full.loc[df_full['edad'] == '98', 'edad'] = np.nan"
   ]
  },
  {
   "cell_type": "code",
   "execution_count": 20,
   "metadata": {},
   "outputs": [
    {
     "data": {
      "text/plain": [
       "(818990, 14)"
      ]
     },
     "execution_count": 20,
     "metadata": {},
     "output_type": "execute_result"
    }
   ],
   "source": [
    "df_full.shape"
   ]
  },
  {
   "cell_type": "code",
   "execution_count": 22,
   "metadata": {},
   "outputs": [],
   "source": [
    "df_full = df_full[df_full['edad'].notnull()]"
   ]
  },
  {
   "cell_type": "code",
   "execution_count": 23,
   "metadata": {},
   "outputs": [
    {
     "data": {
      "text/plain": [
       "(818979, 14)"
      ]
     },
     "execution_count": 23,
     "metadata": {},
     "output_type": "execute_result"
    }
   ],
   "source": [
    "df_full.shape"
   ]
  },
  {
   "cell_type": "code",
   "execution_count": 24,
   "metadata": {},
   "outputs": [],
   "source": [
    "df_full.edad = df_full.edad.astype(int)"
   ]
  },
  {
   "cell_type": "code",
   "execution_count": 25,
   "metadata": {},
   "outputs": [
    {
     "name": "stdout",
     "output_type": "stream",
     "text": [
      "<class 'pandas.core.frame.DataFrame'>\n",
      "Int64Index: 818979 entries, 0 to 818989\n",
      "Data columns (total 14 columns):\n",
      " #   Column               Non-Null Count   Dtype \n",
      "---  ------               --------------   ----- \n",
      " 0   anho                 818979 non-null  int64 \n",
      " 1   casa_id              818979 non-null  int64 \n",
      " 2   nro_vivientes_jure   818979 non-null  int64 \n",
      " 3   nro_vivientes_facto  818979 non-null  int64 \n",
      " 4   region               818979 non-null  object\n",
      " 5   area_residencia      818979 non-null  object\n",
      " 6   fuente_agua          818979 non-null  object\n",
      " 7   tipo_banho           818979 non-null  object\n",
      " 8   tipo_piso            818979 non-null  object\n",
      " 9   indice_riqueza       818979 non-null  object\n",
      " 10  persona_id           818979 non-null  int64 \n",
      " 11  sexo                 818979 non-null  object\n",
      " 12  edad                 818979 non-null  int32 \n",
      " 13  educacion            818979 non-null  object\n",
      "dtypes: int32(1), int64(5), object(8)\n",
      "memory usage: 90.6+ MB\n"
     ]
    }
   ],
   "source": [
    "df_full.info()"
   ]
  },
  {
   "cell_type": "code",
   "execution_count": 26,
   "metadata": {},
   "outputs": [],
   "source": [
    "cols_fit = ['nro_vivientes_jure', 'nro_vivientes_facto','region','area_residencia',\n",
    "                   'tipo_banho','tipo_piso','indice_riqueza',\n",
    "                   'sexo','edad','educacion']"
   ]
  },
  {
   "cell_type": "code",
   "execution_count": 27,
   "metadata": {},
   "outputs": [],
   "source": [
    "col_target = 'fuente_agua'"
   ]
  },
  {
   "cell_type": "markdown",
   "metadata": {},
   "source": [
    "## Fitting respect fuente_agua"
   ]
  },
  {
   "cell_type": "code",
   "execution_count": 28,
   "metadata": {},
   "outputs": [],
   "source": [
    "parameters = {\n",
    "    'application': 'multiclass',\n",
    "    'objective': 'softmax',\n",
    "    'metric': 'multi_logloss',\n",
    "    'is_unbalance': 'true',\n",
    "    'boosting': 'gbdt',\n",
    "    'num_leaves': 31,\n",
    "    'feature_fraction': 0.5,\n",
    "    'bagging_fraction': 0.5,\n",
    "    'bagging_freq': 20,\n",
    "    'learning_rate': 0.05,\n",
    "    'verbose': 0,\n",
    "    'num_class': 11\n",
    "}"
   ]
  },
  {
   "cell_type": "code",
   "execution_count": 29,
   "metadata": {},
   "outputs": [],
   "source": [
    "from sklearn.model_selection import train_test_split"
   ]
  },
  {
   "cell_type": "code",
   "execution_count": 30,
   "metadata": {},
   "outputs": [
    {
     "name": "stdout",
     "output_type": "stream",
     "text": [
      "<class 'pandas.core.frame.DataFrame'>\n",
      "Int64Index: 818979 entries, 0 to 818989\n",
      "Data columns (total 14 columns):\n",
      " #   Column               Non-Null Count   Dtype \n",
      "---  ------               --------------   ----- \n",
      " 0   anho                 818979 non-null  int64 \n",
      " 1   casa_id              818979 non-null  int64 \n",
      " 2   nro_vivientes_jure   818979 non-null  int64 \n",
      " 3   nro_vivientes_facto  818979 non-null  int64 \n",
      " 4   region               818979 non-null  object\n",
      " 5   area_residencia      818979 non-null  object\n",
      " 6   fuente_agua          818979 non-null  object\n",
      " 7   tipo_banho           818979 non-null  object\n",
      " 8   tipo_piso            818979 non-null  object\n",
      " 9   indice_riqueza       818979 non-null  object\n",
      " 10  persona_id           818979 non-null  int64 \n",
      " 11  sexo                 818979 non-null  object\n",
      " 12  edad                 818979 non-null  int32 \n",
      " 13  educacion            818979 non-null  object\n",
      "dtypes: int32(1), int64(5), object(8)\n",
      "memory usage: 90.6+ MB\n"
     ]
    }
   ],
   "source": [
    "df_full.info()"
   ]
  },
  {
   "cell_type": "code",
   "execution_count": 31,
   "metadata": {},
   "outputs": [
    {
     "data": {
      "text/plain": [
       "Red dentro de la vivienda                                 591849\n",
       "Agua embotellada                                           65112\n",
       "Red fuera de la vivienda pero dentro de la edificacion     37236\n",
       "Otro                                                       28303\n",
       "Rio / acequia / laguna                                     26681\n",
       "Manantial                                                  17236\n",
       "Pilon o grifo publico                                      16404\n",
       "Pozo dentro de la vivienda                                 12906\n",
       "Camion cisterna                                            12306\n",
       "Pozo publico                                                8290\n",
       "Agua de lluvia                                              2656\n",
       "Name: fuente_agua, dtype: int64"
      ]
     },
     "execution_count": 31,
     "metadata": {},
     "output_type": "execute_result"
    }
   ],
   "source": [
    "df_full.fuente_agua.value_counts(dropna=False)"
   ]
  },
  {
   "cell_type": "code",
   "execution_count": 32,
   "metadata": {},
   "outputs": [],
   "source": [
    "df_full.loc[:, df_full.dtypes == 'object'] =\\\n",
    "    df_full.select_dtypes(['object'])\\\n",
    "    .apply(lambda x: x.astype('category'))"
   ]
  },
  {
   "cell_type": "code",
   "execution_count": 33,
   "metadata": {},
   "outputs": [
    {
     "name": "stdout",
     "output_type": "stream",
     "text": [
      "<class 'pandas.core.frame.DataFrame'>\n",
      "Int64Index: 818979 entries, 0 to 818989\n",
      "Data columns (total 14 columns):\n",
      " #   Column               Non-Null Count   Dtype   \n",
      "---  ------               --------------   -----   \n",
      " 0   anho                 818979 non-null  int64   \n",
      " 1   casa_id              818979 non-null  int64   \n",
      " 2   nro_vivientes_jure   818979 non-null  int64   \n",
      " 3   nro_vivientes_facto  818979 non-null  int64   \n",
      " 4   region               818979 non-null  category\n",
      " 5   area_residencia      818979 non-null  category\n",
      " 6   fuente_agua          818979 non-null  category\n",
      " 7   tipo_banho           818979 non-null  category\n",
      " 8   tipo_piso            818979 non-null  category\n",
      " 9   indice_riqueza       818979 non-null  category\n",
      " 10  persona_id           818979 non-null  int64   \n",
      " 11  sexo                 818979 non-null  category\n",
      " 12  edad                 818979 non-null  int32   \n",
      " 13  educacion            818979 non-null  category\n",
      "dtypes: category(8), int32(1), int64(5)\n",
      "memory usage: 46.9 MB\n"
     ]
    }
   ],
   "source": [
    "df_full.info()"
   ]
  },
  {
   "cell_type": "code",
   "execution_count": 47,
   "metadata": {},
   "outputs": [],
   "source": [
    "df_full.to_csv('../files/01_csv/csv_consolidated/pitch.csv',index=False)"
   ]
  },
  {
   "cell_type": "code",
   "execution_count": 49,
   "metadata": {},
   "outputs": [],
   "source": [
    "from sklearn.preprocessing import LabelEncoder\n",
    "le = LabelEncoder()"
   ]
  },
  {
   "cell_type": "code",
   "execution_count": 50,
   "metadata": {},
   "outputs": [],
   "source": [
    "feature= df_full[cols_fit]\n",
    "target= le.fit_transform(df_full[col_target])\n",
    "feature_train, feature_test, target_train, target_test= train_test_split(feature, target, test_size=0.20)"
   ]
  },
  {
   "cell_type": "code",
   "execution_count": 51,
   "metadata": {},
   "outputs": [],
   "source": [
    "train_data = lgbm.Dataset(feature_train, label=target_train)\n",
    "test_data = lgbm.Dataset(feature_test, label=target_test)"
   ]
  },
  {
   "cell_type": "code",
   "execution_count": null,
   "metadata": {},
   "outputs": [],
   "source": [
    "model = lgbm.train(parameters,\n",
    "                       train_data,\n",
    "                       valid_sets=test_data,\n",
    "                       num_boost_round=5000,\n",
    "                       early_stopping_rounds=100)"
   ]
  },
  {
   "cell_type": "code",
   "execution_count": 55,
   "metadata": {},
   "outputs": [
    {
     "data": {
      "image/png": "[encoded data removed]",
      "text/plain": [
       "<Figure size 1080x1080 with 1 Axes>"
      ]
     },
     "metadata": {
      "needs_background": "light"
     },
     "output_type": "display_data"
    }
   ],
   "source": [
    "ax = lgbm.plot_importance(model, max_num_features=40, figsize=(15,15))"
   ]
  },
  {
   "cell_type": "code",
   "execution_count": 56,
   "metadata": {},
   "outputs": [],
   "source": [
    "ax.figure.savefig('../files/08_plots/feat_imp_fuente_agua.png')"
   ]
  }
 ],
 "metadata": {
  "kernelspec": {
   "display_name": "Python 3",
   "language": "python",
   "name": "python3"
  },
  "language_info": {
   "codemirror_mode": {
    "name": "ipython",
    "version": 3
   },
   "file_extension": ".py",
   "mimetype": "text/x-python",
   "name": "python",
   "nbconvert_exporter": "python",
   "pygments_lexer": "ipython3",
   "version": "3.8.3"
  }
 },
 "nbformat": 4,
 "nbformat_minor": 4
}
