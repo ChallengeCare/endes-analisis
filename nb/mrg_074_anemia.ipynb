{
 "cells": [
  {
   "cell_type": "markdown",
   "metadata": {},
   "source": [
    "# Merge y análisis descriptivo de archivos \"Peso y Talla - Anemia\""
   ]
  },
  {
   "cell_type": "code",
   "execution_count": 1,
   "metadata": {},
   "outputs": [],
   "source": [
    "import numpy as np\n",
    "import pandas as pd"
   ]
  },
  {
   "cell_type": "markdown",
   "metadata": {},
   "source": [
    "# Load"
   ]
  },
  {
   "cell_type": "code",
   "execution_count": 2,
   "metadata": {},
   "outputs": [],
   "source": [
    "general_file_path = '../files/01_csv'\n",
    "csv_prefix = 'AnyConv.com__'"
   ]
  },
  {
   "cell_type": "code",
   "execution_count": 5,
   "metadata": {},
   "outputs": [],
   "source": [
    "rec44_df = pd.read_csv(f'{general_file_path}/{csv_prefix}REC44.csv')\n",
    "rech5_df = pd.read_csv(f'{general_file_path}/{csv_prefix}RECH5.csv')\n",
    "rech6_df = pd.read_csv(f'{general_file_path}/{csv_prefix}RECH6.csv')"
   ]
  },
  {
   "cell_type": "code",
   "execution_count": 6,
   "metadata": {},
   "outputs": [],
   "source": [
    "rec44_df.columns = [column.split(',')[0] for column in rec44_df.columns]\n",
    "rech5_df.columns = [column.split(',')[0] for column in rech5_df.columns]\n",
    "rech6_df.columns = [column.split(',')[0] for column in rech6_df.columns]"
   ]
  },
  {
   "cell_type": "code",
   "execution_count": 7,
   "metadata": {},
   "outputs": [
    {
     "name": "stdout",
     "output_type": "stream",
     "text": [
      "<class 'pandas.core.frame.DataFrame'>\n",
      "RangeIndex: 21154 entries, 0 to 21153\n",
      "Data columns (total 32 columns):\n",
      " #   Column  Non-Null Count  Dtype \n",
      "---  ------  --------------  ----- \n",
      " 0   ID1     21154 non-null  int64 \n",
      " 1   CASEID  21154 non-null  object\n",
      " 2   HWIDX   21154 non-null  int64 \n",
      " 3   HW1     21154 non-null  int64 \n",
      " 4   HW2     21154 non-null  int64 \n",
      " 5   HW3     21154 non-null  int64 \n",
      " 6   HW4     21154 non-null  int64 \n",
      " 7   HW5     21154 non-null  int64 \n",
      " 8   HW6     21154 non-null  int64 \n",
      " 9   HW7     21154 non-null  int64 \n",
      " 10  HW8     21154 non-null  int64 \n",
      " 11  HW9     21154 non-null  int64 \n",
      " 12  HW10    21154 non-null  int64 \n",
      " 13  HW11    21154 non-null  int64 \n",
      " 14  HW12    21154 non-null  int64 \n",
      " 15  HW13    21154 non-null  int64 \n",
      " 16  HW15    21154 non-null  int64 \n",
      " 17  HW16    21154 non-null  int64 \n",
      " 18  HW17    21154 non-null  int64 \n",
      " 19  HW18    21154 non-null  int64 \n",
      " 20  HW19    21154 non-null  int64 \n",
      " 21  HW51    21154 non-null  int64 \n",
      " 22  HW52    21154 non-null  int64 \n",
      " 23  HW53    21154 non-null  int64 \n",
      " 24  HW55    21154 non-null  int64 \n",
      " 25  HW56    21154 non-null  int64 \n",
      " 26  HW57    21154 non-null  int64 \n",
      " 27  HW58    21154 non-null  int64 \n",
      " 28  HW70    21154 non-null  int64 \n",
      " 29  HW71    21154 non-null  int64 \n",
      " 30  HW72    21154 non-null  int64 \n",
      " 31  HW73    21154 non-null  int64 \n",
      "dtypes: int64(31), object(1)\n",
      "memory usage: 5.2+ MB\n"
     ]
    }
   ],
   "source": [
    "rec44_df.info() # NO id para cruces :/"
   ]
  },
  {
   "cell_type": "code",
   "execution_count": 8,
   "metadata": {},
   "outputs": [
    {
     "name": "stdout",
     "output_type": "stream",
     "text": [
      "<class 'pandas.core.frame.DataFrame'>\n",
      "RangeIndex: 39989 entries, 0 to 39988\n",
      "Data columns (total 38 columns):\n",
      " #   Column  Non-Null Count  Dtype  \n",
      "---  ------  --------------  -----  \n",
      " 0   ID1     39989 non-null  int64  \n",
      " 1   HHID    39989 non-null  int64  \n",
      " 2   HA0     39989 non-null  int64  \n",
      " 3   HA1     39989 non-null  int64  \n",
      " 4   HA2     39989 non-null  int64  \n",
      " 5   HA3     39989 non-null  int64  \n",
      " 6   HA4     39989 non-null  int64  \n",
      " 7   HA5     39989 non-null  int64  \n",
      " 8   HA6     39989 non-null  int64  \n",
      " 9   HA11    39989 non-null  int64  \n",
      " 10  HA12    39989 non-null  int64  \n",
      " 11  HA12A   39989 non-null  int64  \n",
      " 12  HA12B   39989 non-null  int64  \n",
      " 13  HA13    39989 non-null  int64  \n",
      " 14  HA32    39989 non-null  int64  \n",
      " 15  HA33    39989 non-null  int64  \n",
      " 16  HA35    39989 non-null  int64  \n",
      " 17  HA40    39989 non-null  int64  \n",
      " 18  HA41    39989 non-null  int64  \n",
      " 19  HA50    39989 non-null  int64  \n",
      " 20  HA51    39989 non-null  int64  \n",
      " 21  HA52    39989 non-null  int64  \n",
      " 22  HA53    39989 non-null  int64  \n",
      " 23  HA54    39989 non-null  int64  \n",
      " 24  HA55    39989 non-null  int64  \n",
      " 25  HA56    39989 non-null  int64  \n",
      " 26  HA57    39989 non-null  int64  \n",
      " 27  HA58    39989 non-null  int64  \n",
      " 28  HA60    39989 non-null  int64  \n",
      " 29  HA61    39989 non-null  int64  \n",
      " 30  HA62    0 non-null      float64\n",
      " 31  HA63    39989 non-null  int64  \n",
      " 32  HA64    39989 non-null  int64  \n",
      " 33  HA65    39989 non-null  int64  \n",
      " 34  HA66    39989 non-null  int64  \n",
      " 35  HA67    39989 non-null  int64  \n",
      " 36  HA68    39989 non-null  int64  \n",
      " 37  HA69    39989 non-null  int64  \n",
      "dtypes: float64(1), int64(37)\n",
      "memory usage: 11.6 MB\n"
     ]
    }
   ],
   "source": [
    "rech5_df.info()"
   ]
  },
  {
   "cell_type": "code",
   "execution_count": 9,
   "metadata": {},
   "outputs": [
    {
     "name": "stdout",
     "output_type": "stream",
     "text": [
      "<class 'pandas.core.frame.DataFrame'>\n",
      "RangeIndex: 22143 entries, 0 to 22142\n",
      "Data columns (total 41 columns):\n",
      " #   Column  Non-Null Count  Dtype\n",
      "---  ------  --------------  -----\n",
      " 0   ID1     22143 non-null  int64\n",
      " 1   HHID    22143 non-null  int64\n",
      " 2   HC0     22143 non-null  int64\n",
      " 3   HC1     22143 non-null  int64\n",
      " 4   HC2     22143 non-null  int64\n",
      " 5   HC3     22143 non-null  int64\n",
      " 6   HC4     22143 non-null  int64\n",
      " 7   HC5     22143 non-null  int64\n",
      " 8   HC6     22143 non-null  int64\n",
      " 9   HC7     22143 non-null  int64\n",
      " 10  HC8     22143 non-null  int64\n",
      " 11  HC9     22143 non-null  int64\n",
      " 12  HC10    22143 non-null  int64\n",
      " 13  HC11    22143 non-null  int64\n",
      " 14  HC12    22143 non-null  int64\n",
      " 15  HC13    22143 non-null  int64\n",
      " 16  HC15    22143 non-null  int64\n",
      " 17  HC16    22143 non-null  int64\n",
      " 18  HC19    22143 non-null  int64\n",
      " 19  HC27    22143 non-null  int64\n",
      " 20  HC30    22143 non-null  int64\n",
      " 21  HC31    22143 non-null  int64\n",
      " 22  HC32    22143 non-null  int64\n",
      " 23  HC33    22143 non-null  int64\n",
      " 24  HC51    22143 non-null  int64\n",
      " 25  HC52    22143 non-null  int64\n",
      " 26  HC53    22143 non-null  int64\n",
      " 27  HC55    22143 non-null  int64\n",
      " 28  HC56    22143 non-null  int64\n",
      " 29  HC57    22143 non-null  int64\n",
      " 30  HC58    22143 non-null  int64\n",
      " 31  HC60    22143 non-null  int64\n",
      " 32  HC61    22143 non-null  int64\n",
      " 33  HC62    22143 non-null  int64\n",
      " 34  HC63    22143 non-null  int64\n",
      " 35  HC64    22143 non-null  int64\n",
      " 36  HC68    22143 non-null  int64\n",
      " 37  HC70    22143 non-null  int64\n",
      " 38  HC71    22143 non-null  int64\n",
      " 39  HC72    22143 non-null  int64\n",
      " 40  HC73    22143 non-null  int64\n",
      "dtypes: int64(41)\n",
      "memory usage: 6.9 MB\n"
     ]
    }
   ],
   "source": [
    "rech6_df.info()"
   ]
  },
  {
   "cell_type": "markdown",
   "metadata": {},
   "source": [
    "# Granularidad"
   ]
  },
  {
   "cell_type": "markdown",
   "metadata": {},
   "source": [
    "ignorar rec44 ya que no tiene cruce por hhid"
   ]
  },
  {
   "cell_type": "code",
   "execution_count": 13,
   "metadata": {},
   "outputs": [
    {
     "data": {
      "text/html": [
       "<div>\n",
       "<style scoped>\n",
       "    .dataframe tbody tr th:only-of-type {\n",
       "        vertical-align: middle;\n",
       "    }\n",
       "\n",
       "    .dataframe tbody tr th {\n",
       "        vertical-align: top;\n",
       "    }\n",
       "\n",
       "    .dataframe thead th {\n",
       "        text-align: right;\n",
       "    }\n",
       "</style>\n",
       "<table border=\"1\" class=\"dataframe\">\n",
       "  <thead>\n",
       "    <tr style=\"text-align: right;\">\n",
       "      <th></th>\n",
       "      <th>ID1</th>\n",
       "      <th>HHID</th>\n",
       "      <th>HA0</th>\n",
       "      <th>HA1</th>\n",
       "      <th>HA2</th>\n",
       "      <th>HA3</th>\n",
       "      <th>HA4</th>\n",
       "      <th>HA5</th>\n",
       "      <th>HA6</th>\n",
       "      <th>HA11</th>\n",
       "      <th>...</th>\n",
       "      <th>HA60</th>\n",
       "      <th>HA61</th>\n",
       "      <th>HA62</th>\n",
       "      <th>HA63</th>\n",
       "      <th>HA64</th>\n",
       "      <th>HA65</th>\n",
       "      <th>HA66</th>\n",
       "      <th>HA67</th>\n",
       "      <th>HA68</th>\n",
       "      <th>HA69</th>\n",
       "    </tr>\n",
       "  </thead>\n",
       "  <tbody>\n",
       "  </tbody>\n",
       "</table>\n",
       "<p>0 rows × 38 columns</p>\n",
       "</div>"
      ],
      "text/plain": [
       "Empty DataFrame\n",
       "Columns: [ID1, HHID, HA0, HA1, HA2, HA3, HA4, HA5, HA6, HA11, HA12, HA12A, HA12B, HA13, HA32, HA33, HA35, HA40, HA41, HA50, HA51, HA52, HA53, HA54, HA55, HA56, HA57, HA58, HA60, HA61, HA62, HA63, HA64, HA65, HA66, HA67, HA68, HA69]\n",
       "Index: []\n",
       "\n",
       "[0 rows x 38 columns]"
      ]
     },
     "execution_count": 13,
     "metadata": {},
     "output_type": "execute_result"
    }
   ],
   "source": [
    "rech5_df[rech5_df.duplicated(['HHID','HA0'])] # mujeres"
   ]
  },
  {
   "cell_type": "code",
   "execution_count": 15,
   "metadata": {},
   "outputs": [
    {
     "data": {
      "text/html": [
       "<div>\n",
       "<style scoped>\n",
       "    .dataframe tbody tr th:only-of-type {\n",
       "        vertical-align: middle;\n",
       "    }\n",
       "\n",
       "    .dataframe tbody tr th {\n",
       "        vertical-align: top;\n",
       "    }\n",
       "\n",
       "    .dataframe thead th {\n",
       "        text-align: right;\n",
       "    }\n",
       "</style>\n",
       "<table border=\"1\" class=\"dataframe\">\n",
       "  <thead>\n",
       "    <tr style=\"text-align: right;\">\n",
       "      <th></th>\n",
       "      <th>ID1</th>\n",
       "      <th>HHID</th>\n",
       "      <th>HC0</th>\n",
       "      <th>HC1</th>\n",
       "      <th>HC2</th>\n",
       "      <th>HC3</th>\n",
       "      <th>HC4</th>\n",
       "      <th>HC5</th>\n",
       "      <th>HC6</th>\n",
       "      <th>HC7</th>\n",
       "      <th>...</th>\n",
       "      <th>HC60</th>\n",
       "      <th>HC61</th>\n",
       "      <th>HC62</th>\n",
       "      <th>HC63</th>\n",
       "      <th>HC64</th>\n",
       "      <th>HC68</th>\n",
       "      <th>HC70</th>\n",
       "      <th>HC71</th>\n",
       "      <th>HC72</th>\n",
       "      <th>HC73</th>\n",
       "    </tr>\n",
       "  </thead>\n",
       "  <tbody>\n",
       "  </tbody>\n",
       "</table>\n",
       "<p>0 rows × 41 columns</p>\n",
       "</div>"
      ],
      "text/plain": [
       "Empty DataFrame\n",
       "Columns: [ID1, HHID, HC0, HC1, HC2, HC3, HC4, HC5, HC6, HC7, HC8, HC9, HC10, HC11, HC12, HC13, HC15, HC16, HC19, HC27, HC30, HC31, HC32, HC33, HC51, HC52, HC53, HC55, HC56, HC57, HC58, HC60, HC61, HC62, HC63, HC64, HC68, HC70, HC71, HC72, HC73]\n",
       "Index: []\n",
       "\n",
       "[0 rows x 41 columns]"
      ]
     },
     "execution_count": 15,
     "metadata": {},
     "output_type": "execute_result"
    }
   ],
   "source": [
    "rech6_df[rech6_df.duplicated(['HHID','HC0'])] # niños"
   ]
  },
  {
   "cell_type": "markdown",
   "metadata": {},
   "source": [
    "# Checkin edadesm"
   ]
  },
  {
   "cell_type": "code",
   "execution_count": 18,
   "metadata": {},
   "outputs": [
    {
     "data": {
      "text/plain": [
       "12    1294\n",
       "13    1281\n",
       "14    1290\n",
       "15    1155\n",
       "16    1067\n",
       "17     919\n",
       "18     920\n",
       "19    1012\n",
       "20    1076\n",
       "21    1047\n",
       "22    1198\n",
       "23    1241\n",
       "24    1248\n",
       "25    1256\n",
       "26    1334\n",
       "27    1281\n",
       "28    1250\n",
       "29    1205\n",
       "30    1280\n",
       "31    1262\n",
       "32    1285\n",
       "33    1191\n",
       "34    1264\n",
       "35    1105\n",
       "36    1130\n",
       "37    1100\n",
       "38    1040\n",
       "39     996\n",
       "40     975\n",
       "41     836\n",
       "42     894\n",
       "43     794\n",
       "44     746\n",
       "45     648\n",
       "46     624\n",
       "47     617\n",
       "48     597\n",
       "49     531\n",
       "Name: HA1, dtype: int64"
      ]
     },
     "execution_count": 18,
     "metadata": {},
     "output_type": "execute_result"
    }
   ],
   "source": [
    "rech5_df.HA1.value_counts(dropna=False).sort_index() #edad en anhos (min 12 años :()"
   ]
  },
  {
   "cell_type": "code",
   "execution_count": 20,
   "metadata": {},
   "outputs": [
    {
     "data": {
      "text/plain": [
       "0     182\n",
       "1     188\n",
       "2     272\n",
       "3     326\n",
       "4     346\n",
       "5     365\n",
       "6     372\n",
       "7     355\n",
       "8     377\n",
       "9     350\n",
       "10    384\n",
       "11    397\n",
       "12    380\n",
       "13    408\n",
       "14    334\n",
       "15    364\n",
       "16    339\n",
       "17    346\n",
       "18    379\n",
       "19    343\n",
       "20    395\n",
       "21    374\n",
       "22    369\n",
       "23    344\n",
       "24    362\n",
       "25    352\n",
       "26    383\n",
       "27    410\n",
       "28    357\n",
       "29    351\n",
       "30    395\n",
       "31    358\n",
       "32    368\n",
       "33    396\n",
       "34    352\n",
       "35    376\n",
       "36    380\n",
       "37    384\n",
       "38    350\n",
       "39    356\n",
       "40    368\n",
       "41    402\n",
       "42    401\n",
       "43    424\n",
       "44    399\n",
       "45    382\n",
       "46    381\n",
       "47    397\n",
       "48    415\n",
       "49    378\n",
       "50    414\n",
       "51    347\n",
       "52    418\n",
       "53    420\n",
       "54    400\n",
       "55    418\n",
       "56    384\n",
       "57    389\n",
       "58    397\n",
       "59    390\n",
       "Name: HC1, dtype: int64"
      ]
     },
     "execution_count": 20,
     "metadata": {},
     "output_type": "execute_result"
    }
   ],
   "source": [
    "rech6_df.HC1.value_counts(dropna=False).sort_index()"
   ]
  }
 ],
 "metadata": {
  "kernelspec": {
   "display_name": "Python 3",
   "language": "python",
   "name": "python3"
  },
  "language_info": {
   "codemirror_mode": {
    "name": "ipython",
    "version": 3
   },
   "file_extension": ".py",
   "mimetype": "text/x-python",
   "name": "python",
   "nbconvert_exporter": "python",
   "pygments_lexer": "ipython3",
   "version": "3.7.6"
  }
 },
 "nbformat": 4,
 "nbformat_minor": 4
}
